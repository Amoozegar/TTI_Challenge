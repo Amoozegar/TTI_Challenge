{
 "cells": [
  {
   "cell_type": "markdown",
   "metadata": {},
   "source": [
    "## Programming Questions"
   ]
  },
  {
   "cell_type": "code",
   "execution_count": 1,
   "metadata": {},
   "outputs": [
    {
     "data": {
      "text/html": [
       "<div>\n",
       "<style scoped>\n",
       "    .dataframe tbody tr th:only-of-type {\n",
       "        vertical-align: middle;\n",
       "    }\n",
       "\n",
       "    .dataframe tbody tr th {\n",
       "        vertical-align: top;\n",
       "    }\n",
       "\n",
       "    .dataframe thead th {\n",
       "        text-align: right;\n",
       "    }\n",
       "</style>\n",
       "<table border=\"1\" class=\"dataframe\">\n",
       "  <thead>\n",
       "    <tr style=\"text-align: right;\">\n",
       "      <th></th>\n",
       "      <th>Class</th>\n",
       "      <th>PartNo</th>\n",
       "      <th>X</th>\n",
       "      <th>Y</th>\n",
       "    </tr>\n",
       "  </thead>\n",
       "  <tbody>\n",
       "    <tr>\n",
       "      <th>0</th>\n",
       "      <td>AAA</td>\n",
       "      <td>X135</td>\n",
       "      <td>0.21</td>\n",
       "      <td>1.124</td>\n",
       "    </tr>\n",
       "    <tr>\n",
       "      <th>1</th>\n",
       "      <td>AAA</td>\n",
       "      <td>X126</td>\n",
       "      <td>0.21</td>\n",
       "      <td>1.179</td>\n",
       "    </tr>\n",
       "    <tr>\n",
       "      <th>2</th>\n",
       "      <td>EBHA</td>\n",
       "      <td>X195</td>\n",
       "      <td>0.32</td>\n",
       "      <td>1.191</td>\n",
       "    </tr>\n",
       "    <tr>\n",
       "      <th>3</th>\n",
       "      <td>EBHA</td>\n",
       "      <td>X194</td>\n",
       "      <td>0.82</td>\n",
       "      <td>1.249</td>\n",
       "    </tr>\n",
       "    <tr>\n",
       "      <th>4</th>\n",
       "      <td>AAA</td>\n",
       "      <td>X139</td>\n",
       "      <td>0.81</td>\n",
       "      <td>1.255</td>\n",
       "    </tr>\n",
       "  </tbody>\n",
       "</table>\n",
       "</div>"
      ],
      "text/plain": [
       "  Class PartNo     X      Y\n",
       "0   AAA   X135  0.21  1.124\n",
       "1   AAA   X126  0.21  1.179\n",
       "2  EBHA   X195  0.32  1.191\n",
       "3  EBHA   X194  0.82  1.249\n",
       "4   AAA   X139  0.81  1.255"
      ]
     },
     "execution_count": 1,
     "metadata": {},
     "output_type": "execute_result"
    }
   ],
   "source": [
    "# reading the data into pandas dataframe\n",
    "import pandas as pd\n",
    "part_dataframe = pd.read_csv('Programming_Part1_TTI_Challenge.csv' , sep ='\\\\t', engine ='python' )\n",
    "part_dataframe.head()"
   ]
  },
  {
   "cell_type": "code",
   "execution_count": 9,
   "metadata": {},
   "outputs": [
    {
     "name": "stdout",
     "output_type": "stream",
     "text": [
      "Class      object\n",
      "PartNo     object\n",
      "X         float64\n",
      "Y         float64\n",
      "dtype: object\n"
     ]
    }
   ],
   "source": [
    "# geting the data types\n",
    "print (part_dataframe.dtypes)"
   ]
  },
  {
   "cell_type": "markdown",
   "metadata": {},
   "source": [
    "## Descriptive statistics"
   ]
  },
  {
   "cell_type": "code",
   "execution_count": 10,
   "metadata": {},
   "outputs": [
    {
     "name": "stdout",
     "output_type": "stream",
     "text": [
      "                X           Y\n",
      "count  100.000000  100.000000\n",
      "mean     5.499100    3.525130\n",
      "std      2.672921    1.734591\n",
      "min      0.210000    1.124000\n",
      "25%      3.515000    2.086250\n",
      "50%      5.310000    2.974000\n",
      "75%      7.810000    4.919500\n",
      "max     10.020000    7.498000\n"
     ]
    }
   ],
   "source": [
    "# geting the descriptive statistics\n",
    "print (part_dataframe.describe())"
   ]
  },
  {
   "cell_type": "code",
   "execution_count": 28,
   "metadata": {},
   "outputs": [
    {
     "name": "stdout",
     "output_type": "stream",
     "text": [
      "the geometric mean of x is: 4.4953243612\n",
      "the geometric mean of y is: 3.10830980506\n"
     ]
    }
   ],
   "source": [
    "# calculating the geometric mean\n",
    "import numpy as np\n",
    "def geometric_mean(list):\n",
    "    a=np.array(list)\n",
    "    return a.prod()**(1.0/len(a))\n",
    "geometric_mean_x = geometric_mean(part_dataframe['X'])\n",
    "print \"the geometric mean of x is: \" + str(geometric_mean_x)\n",
    "geometric_mean_y = geometric_mean(part_dataframe['Y'])\n",
    "print \"the geometric mean of y is: \" + str(geometric_mean_y)\n"
   ]
  },
  {
   "cell_type": "markdown",
   "metadata": {},
   "source": [
    "## Writing out the dataframe in a SQL table\n",
    "In this part, I wrote out the dataframe in SQL table in SQLite which is a relational database management system contained in a C programming library. The SQLite database can be imported to MS SQL, MySQL and ... "
   ]
  },
  {
   "cell_type": "code",
   "execution_count": 5,
   "metadata": {},
   "outputs": [
    {
     "name": "stdout",
     "output_type": "stream",
     "text": [
      "Here's the data to prove the table exists:\n",
      "[(0.21,), (0.21,), (0.32,), (0.82,), (0.81,), (1.21,), (1.01,), (1.12,), (1.8,), (1.81,), (1.51,), (2.41,), (2.12,), (2.12,), (2.31,), (2.51,), (2.61,), (2.51,), (2.61,), (2.51,), (2.91,), (2.91,), (3.11,), (3.21,), (3.5,), (3.61,), (3.52,), (3.8,), (3.81,), (4.21,), (4.21,), (4.41,), (4.31,), (4.3,), (4.4,), (4.61,), (4.51,), (4.61,), (4.61,), (4.91,), (4.81,), (5.04,), (5.01,), (5.03,), (5.11,), (5.31,), (5.11,), (5.22,), (5.11,), (5.11,), (5.31,), (5.41,), (5.51,), (5.51,), (5.71,), (5.92,), (5.91,), (5.91,), (5.91,), (6.31,), (6.21,), (6.51,), (6.61,), (6.82,), (7.11,), (7.42,), (7.51,), (7.51,), (7.51,), (7.5,), (7.62,), (7.61,), (7.71,), (7.81,), (7.8,), (7.81,), (8.02,), (8.01,), (8.11,), (8.11,), (8.21,), (8.22,), (8.3,), (8.41,), (8.51,), (8.71,), (8.8,), (8.81,), (8.82,), (8.81,), (9.0,), (9.01,), (9.02,), (9.2,), (9.41,), (9.51,), (9.81,), (9.82,), (9.91,), (10.02,)]\n"
     ]
    }
   ],
   "source": [
    "# write out the dataframe in a sql table in SQLite\n",
    "import sqlite3 as sq\n",
    "import pandas as pd\n",
    "import pandas.io.sql as pd_sql\n",
    "# Connect to the database (create if necessary)                  \n",
    "conn = sq.connect('mydatabase')\n",
    "\n",
    "# Create the table 'mytable' if necessary\n",
    "if not pd_sql.table_exists('mytable', conn, 'sqlite'):\n",
    "    pd.DataFrame.to_sql(part_dataframe, 'mytable', conn)\n",
    " \n",
    "# execute the query to prove that the sql table is created\n",
    "cur = pd_sql.execute(\"SELECT X FROM mytable\", conn)\n",
    "print \"Here's the data to prove the table exists:\"\n",
    "print cur.fetchall()    "
   ]
  },
  {
   "cell_type": "markdown",
   "metadata": {},
   "source": [
    "## Generate the predictive modeling\n",
    "Before buiding a predictive or actually regression model for our problem, first we check for the outliers in X and Y, by creating boxplots( points which fall outside the whiskers would be considered as the outliers).Then we would get the correlation table for X and Y and also the scatter plot of these variables to understand their relationship. "
   ]
  },
  {
   "cell_type": "code",
   "execution_count": 32,
   "metadata": {},
   "outputs": [
    {
     "data": {
      "image/png": "[encoded data removed]",
      "text/plain": [
       "<matplotlib.figure.Figure at 0xef0ca90>"
      ]
     },
     "metadata": {},
     "output_type": "display_data"
    }
   ],
   "source": [
    "# check for the outliers in X by plotting the box plot of X\n",
    "import matplotlib.pyplot as plt\n",
    "plt.boxplot(part_dataframe['X'])\n",
    "plt.ylabel(\"X\")\n",
    "plt.show()"
   ]
  },
  {
   "cell_type": "code",
   "execution_count": 31,
   "metadata": {},
   "outputs": [
    {
     "data": {
      "image/png": "[encoded data removed]",
      "text/plain": [
       "<matplotlib.figure.Figure at 0xec57048>"
      ]
     },
     "metadata": {},
     "output_type": "display_data"
    }
   ],
   "source": [
    "# check for the outliers in y by plotting the box plot of y\n",
    "import matplotlib.pyplot as plt\n",
    "plt.boxplot(part_dataframe['Y'])\n",
    "plt.ylabel(\"Y\")\n",
    "plt.show()"
   ]
  },
  {
   "cell_type": "code",
   "execution_count": 27,
   "metadata": {},
   "outputs": [
    {
     "data": {
      "text/html": [
       "<div>\n",
       "<style scoped>\n",
       "    .dataframe tbody tr th:only-of-type {\n",
       "        vertical-align: middle;\n",
       "    }\n",
       "\n",
       "    .dataframe tbody tr th {\n",
       "        vertical-align: top;\n",
       "    }\n",
       "\n",
       "    .dataframe thead th {\n",
       "        text-align: right;\n",
       "    }\n",
       "</style>\n",
       "<table border=\"1\" class=\"dataframe\">\n",
       "  <thead>\n",
       "    <tr style=\"text-align: right;\">\n",
       "      <th></th>\n",
       "      <th>X</th>\n",
       "      <th>Y</th>\n",
       "    </tr>\n",
       "  </thead>\n",
       "  <tbody>\n",
       "    <tr>\n",
       "      <th>X</th>\n",
       "      <td>1.000000</td>\n",
       "      <td>0.968403</td>\n",
       "    </tr>\n",
       "    <tr>\n",
       "      <th>Y</th>\n",
       "      <td>0.968403</td>\n",
       "      <td>1.000000</td>\n",
       "    </tr>\n",
       "  </tbody>\n",
       "</table>\n",
       "</div>"
      ],
      "text/plain": [
       "          X         Y\n",
       "X  1.000000  0.968403\n",
       "Y  0.968403  1.000000"
      ]
     },
     "execution_count": 27,
     "metadata": {},
     "output_type": "execute_result"
    }
   ],
   "source": [
    "# geting the correlation table of x and y\n",
    "part_dataframe.corr()"
   ]
  },
  {
   "cell_type": "markdown",
   "metadata": {},
   "source": [
    "This correlation table shows a strong correlation between X and Y"
   ]
  },
  {
   "cell_type": "code",
   "execution_count": 28,
   "metadata": {},
   "outputs": [
    {
     "data": {
      "image/png": "[encoded data removed]",
      "text/plain": [
       "<matplotlib.figure.Figure at 0xeb8dc88>"
      ]
     },
     "metadata": {},
     "output_type": "display_data"
    }
   ],
   "source": [
    "# scatter plot of X versus Y\n",
    "import matplotlib.pyplot as plt\n",
    "plt.scatter(part_dataframe['X'],part_dataframe['Y'] )\n",
    "plt.xlabel(\"X\")\n",
    "plt.ylabel(\"Y\")\n",
    "plt.title(\"Y versus X\")\n",
    "plt.show()"
   ]
  },
  {
   "cell_type": "markdown",
   "metadata": {},
   "source": [
    "This scatter plot agrees with the correlation table. It shows a strong relationship between X and Y. Because of this relationship, first we would try the linear regression algorithm and then we can try the polynomial regression, because it sounds that a quadratic function can better relate Y to X.\n",
    "\n",
    "# Implementing linear regression model\n",
    "For evaluating the accuracy of regression models, we used two metrics: MSE and R-squared. MSE is actually the mean of the squares of the errors, which can assess the quality of the estimator. The smaller value for MSE shows a stronger predictor. R-squared shows the percentage of the variance in the dependent variable that the independent variables explain collectively. It changes between 0 and 1. The stronger predictors have greater R-squareds. \n",
    "Also for better validating the model, we splitted the data into train and test sets and built the model on the train set, then evaluate it on the test set. This procedure was repeated 3 times, using shuffleSplit which is a random permutation cross validator, that assigns the indices to split the data into the training and test sets. Then we took the average of the MSE and R-squared and reported them as the accuracy score. "
   ]
  },
  {
   "cell_type": "code",
   "execution_count": 25,
   "metadata": {},
   "outputs": [
    {
     "name": "stdout",
     "output_type": "stream",
     "text": [
      "Coefficients: [ 0.64205137]\n",
      "Intercept: 0.0142996356021\n",
      "Mean squared error: 0.180264108221\n",
      "R squared : 0.930351547261\n"
     ]
    }
   ],
   "source": [
    "# linear regression\n",
    "import numpy as np\n",
    "from sklearn.model_selection import train_test_split\n",
    "from sklearn.linear_model import LinearRegression\n",
    "from sklearn.model_selection import ShuffleSplit\n",
    "from sklearn import datasets, linear_model\n",
    "from sklearn.metrics import mean_squared_error, r2_score\n",
    "x=[]\n",
    "y=[]\n",
    "for i in part_dataframe['X']:\n",
    "    x.append(np.array(i))\n",
    "for j in part_dataframe['Y']:\n",
    "    y.append(j)\n",
    "\n",
    "X_matrix= np.matrix(np.array(x))\n",
    "X= X_matrix.transpose()\n",
    "X= np.array(X)\n",
    "Y = np.array(y)\n",
    "\n",
    "# Create linear regression object\n",
    "regr = linear_model.LinearRegression()\n",
    "\n",
    "sum_r2_score = 0 \n",
    "sum_mean_squared_error = 0\n",
    "\n",
    "#getting the indeces for splitting the data into train and test sets \n",
    "ss = ShuffleSplit(n_splits=3, test_size=0.25,random_state=0)\n",
    "for train_index, test_index in ss.split(X,Y):\n",
    "    \n",
    "    X_train, X_test = X[train_index], X[test_index]\n",
    "    Y_train, Y_test = Y[train_index], Y[test_index]\n",
    "    \n",
    "    regr.fit(X_train, Y_train)\n",
    "    # Make predictions using the testing set\n",
    "    Y_pred = regr.predict(X_test)\n",
    "\n",
    "    sum_r2_score = sum_r2_score + r2_score(Y_test, Y_pred)\n",
    "    sum_mean_squared_error = sum_mean_squared_error + mean_squared_error(Y_test, Y_pred)\n",
    "\n",
    "average_r2_score = sum_r2_score/3\n",
    "average_mean_squared_error = sum_mean_squared_error/3\n",
    "\n",
    "print ('Coefficients: '+ str(regr.coef_))\n",
    "print (\"Intercept: \" + str(regr.intercept_))\n",
    "# The mean squared error\n",
    "print (\"Mean squared error: \" +  str(average_mean_squared_error))\n",
    "# the R squared\n",
    "print (\"R squared : \" + str(average_r2_score))"
   ]
  },
  {
   "cell_type": "markdown",
   "metadata": {},
   "source": [
    "# Implementing polynomial regression"
   ]
  },
  {
   "cell_type": "code",
   "execution_count": 30,
   "metadata": {},
   "outputs": [
    {
     "name": "stdout",
     "output_type": "stream",
     "text": [
      "Coefficients: [ 0.          0.00130171  0.05967363]\n",
      "Mean squared error: 0.0057179517663\n",
      "R squared : 0.997715355268\n"
     ]
    }
   ],
   "source": [
    "# polynomial regression ( with degree = 2)\n",
    "import numpy as np\n",
    "import matplotlib.pyplot as plt\n",
    "from sklearn.preprocessing import PolynomialFeatures\n",
    "from sklearn.model_selection import train_test_split\n",
    "from sklearn.linear_model import LinearRegression\n",
    "from sklearn.model_selection import ShuffleSplit\n",
    "from sklearn.metrics import mean_squared_error, r2_score\n",
    "x=[]\n",
    "y=[]\n",
    "for i in part_dataframe['X']:\n",
    "    x.append(np.array(i))\n",
    "for j in part_dataframe['Y']:\n",
    "    y.append(j)\n",
    "\n",
    "X_matrix= np.matrix(np.array(x))\n",
    "X= X_matrix.transpose()\n",
    "X= np.array(X)\n",
    "Y = np.array(y)\n",
    "\n",
    "sum_r2_score = 0 \n",
    "sum_mean_squared_error = 0\n",
    "\n",
    "#getting the indeces for splitting the data into train and test sets \n",
    "ss = ShuffleSplit(n_splits=3, test_size=0.25,random_state=0)\n",
    "for train_index, test_index in ss.split(X,Y):\n",
    "    \n",
    "    X_train, X_test = X[train_index], X[test_index]\n",
    "    Y_train, Y_test = Y[train_index], Y[test_index]\n",
    "    \n",
    "    lin_regressor = LinearRegression()\n",
    "\n",
    "    # pass the order of your polynomial here  \n",
    "    poly = PolynomialFeatures(2)\n",
    "\n",
    "    # convert to be used further to linear regression\n",
    "    X_transform = poly.fit_transform(X_train)\n",
    "    X_pred = poly.fit_transform(X_test)\n",
    "    \n",
    "    # fit this to Linear Regressor\n",
    "    lin_regressor.fit(X_transform,Y_train) \n",
    "\n",
    "    # get the predictions\n",
    "    Y_pred = lin_regressor.predict(X_pred)\n",
    "    \n",
    "    sum_r2_score = sum_r2_score + r2_score(Y_test, Y_pred)\n",
    "    sum_mean_squared_error = sum_mean_squared_error + mean_squared_error(Y_test, Y_pred)\n",
    "\n",
    "# getting the average of three times running the algorithm and getting the R-squared and MSE     \n",
    "average_r2_score = sum_r2_score/3\n",
    "average_mean_squared_error = sum_mean_squared_error/3\n",
    "\n",
    "#the coefficients of the regression model\n",
    "print ('Coefficients: '+ str(lin_regressor.coef_))\n",
    "# The mean squared error\n",
    "print (\"Mean squared error: \" +  str(average_mean_squared_error))\n",
    "# the R squared\n",
    "print (\"R squared : \" + str(average_r2_score))"
   ]
  },
  {
   "cell_type": "markdown",
   "metadata": {},
   "source": [
    "According to the reported MSE and R-squared for linear regression and the polynomial regression, we conclude that the best prediction model would be polynomial regression model with (degrees=2) (Y = 0.00130171X + 0.05967363X^2 )"
   ]
  },
  {
   "cell_type": "code",
   "execution_count": null,
   "metadata": {},
   "outputs": [],
   "source": []
  }
 ],
 "metadata": {
  "kernelspec": {
   "display_name": "Python 2",
   "language": "python",
   "name": "python2"
  },
  "language_info": {
   "codemirror_mode": {
    "name": "ipython",
    "version": 2
   },
   "file_extension": ".py",
   "mimetype": "text/x-python",
   "name": "python",
   "nbconvert_exporter": "python",
   "pygments_lexer": "ipython2",
   "version": "2.7.14"
  }
 },
 "nbformat": 4,
 "nbformat_minor": 2
}
